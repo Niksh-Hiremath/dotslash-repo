{
 "cells": [
  {
   "cell_type": "markdown",
   "metadata": {},
   "source": [
    "## This is a demo of our backend implementation"
   ]
  },
  {
   "cell_type": "code",
   "execution_count": 2,
   "metadata": {},
   "outputs": [],
   "source": [
    "BASE_API = \"http://127.0.0.1:8000/\""
   ]
  },
  {
   "cell_type": "markdown",
   "metadata": {},
   "source": [
    "### Verification of Code"
   ]
  },
  {
   "cell_type": "code",
   "execution_count": 3,
   "metadata": {},
   "outputs": [],
   "source": [
    "question_id = \"1\"\n",
    "code = \"\"\"\n",
    "class Solution:\n",
    "    def twoSum(self, nums: list[int], target: int) -> list[int]:\n",
    "        hash_map = {}\n",
    "        n = len(nums)\n",
    "\n",
    "        for i in range(n):\n",
    "            comp = target - nums[i]\n",
    "            if comp in hash_map:\n",
    "                return [hash_map[comp], i]\n",
    "            hash_map[nums[i]] = i\n",
    "\n",
    "        return []\n",
    "\"\"\""
   ]
  },
  {
   "cell_type": "code",
   "execution_count": 4,
   "metadata": {},
   "outputs": [
    {
     "name": "stdout",
     "output_type": "stream",
     "text": [
      "{'success': True, 'result': 'Correct'}\n"
     ]
    }
   ],
   "source": [
    "import requests\n",
    "\n",
    "req = requests.post(\n",
    "    BASE_API + \"check-code\",\n",
    "    json={\"QuestionId\": question_id, \"code\": code},\n",
    "    headers={\"Authorization\": \"dotslash-snac\"},\n",
    ")\n",
    "\n",
    "print(req.json())"
   ]
  },
  {
   "cell_type": "markdown",
   "metadata": {},
   "source": [
    "### Chat Flow"
   ]
  },
  {
   "cell_type": "code",
   "execution_count": 6,
   "metadata": {},
   "outputs": [
    {
     "name": "stdout",
     "output_type": "stream",
     "text": [
      "{'detail': '\\n\\nYou tried to access openai.ChatCompletion, but this is no longer supported in openai>=1.0.0 - see the README at https://github.com/openai/openai-python for the API.\\n\\nYou can run `openai migrate` to automatically upgrade your codebase to use the 1.0.0 interface. \\n\\nAlternatively, you can pin your installation to the old version, e.g. `pip install openai==0.28`\\n\\nA detailed migration guide is available here: https://github.com/openai/openai-python/discussions/742\\n'}\n"
     ]
    }
   ],
   "source": [
    "path = \"test.wav\"\n",
    "\n",
    "req = requests.post(\n",
    "    BASE_API + \"chat\",\n",
    "    files={\"audio\": open(path, \"rb\")},\n",
    "    headers={\"Authorization\": \"dotslash-snac\"},\n",
    ")\n",
    "\n",
    "print(req.json())"
   ]
  }
 ],
 "metadata": {
  "kernelspec": {
   "display_name": ".venv",
   "language": "python",
   "name": "python3"
  },
  "language_info": {
   "codemirror_mode": {
    "name": "ipython",
    "version": 3
   },
   "file_extension": ".py",
   "mimetype": "text/x-python",
   "name": "python",
   "nbconvert_exporter": "python",
   "pygments_lexer": "ipython3",
   "version": "3.10.6"
  }
 },
 "nbformat": 4,
 "nbformat_minor": 2
}
