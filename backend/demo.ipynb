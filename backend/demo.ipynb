{
 "cells": [
  {
   "cell_type": "markdown",
   "metadata": {},
   "source": [
    "## This is a demo of our backend implementation"
   ]
  },
  {
   "cell_type": "code",
   "execution_count": 1,
   "metadata": {},
   "outputs": [],
   "source": [
    "BASE_API = \"http://127.0.0.1:8000/\""
   ]
  },
  {
   "cell_type": "markdown",
   "metadata": {},
   "source": [
    "### Verification of Code"
   ]
  },
  {
   "cell_type": "code",
   "execution_count": 2,
   "metadata": {},
   "outputs": [],
   "source": [
    "question_id = \"1\"\n",
    "code = \"\"\"\n",
    "class Solution:\n",
    "    def twoSum(self, nums: list[int], target: int) -> list[int]:\n",
    "        hash_map = {}\n",
    "        n = len(nums)\n",
    "\n",
    "        for i in range(n):\n",
    "            comp = target - nums[i]\n",
    "            if comp in hash_map:\n",
    "                return [hash_map[comp], i]\n",
    "            hash_map[nums[i]] = i\n",
    "\n",
    "        return []\n",
    "\"\"\""
   ]
  },
  {
   "cell_type": "code",
   "execution_count": 3,
   "metadata": {},
   "outputs": [
    {
     "name": "stdout",
     "output_type": "stream",
     "text": [
      "{'success': True, 'result': 'Correct'}\n"
     ]
    }
   ],
   "source": [
    "import requests\n",
    "\n",
    "req = requests.post(\n",
    "    BASE_API + \"check-code\",\n",
    "    json={\"QuestionId\": question_id, \"code\": code},\n",
    "    headers={\"Authorization\": \"dotslash-snac\"},\n",
    ")\n",
    "\n",
    "print(req.json())"
   ]
  },
  {
   "cell_type": "markdown",
   "metadata": {},
   "source": [
    "### Chat Flow"
   ]
  },
  {
   "cell_type": "code",
   "execution_count": 17,
   "metadata": {},
   "outputs": [
    {
     "name": "stdout",
     "output_type": "stream",
     "text": [
      "{'success': True, 'session_id': '578f3869-bbc5-4b31-ada5-44b12edc865b', 'transcription': 'So, the problem wants us to give the index of two elements from the list such that the sum of the numbers at that index is equal to the provided target. Easiest way to do this is the brute force method which is run a loop in a loop to check for the sum is equal to the target. However, this solution is a O of n squared solution, but the question asks us to look for a better solution than O of n square. So, the next approach would be to use a hash map or a dictionary. We store the seen elements as the keys with the index as the values. We continue looping through the list till we find the element whose complement aka the target minus number is in the hash map. When we find such an element, we return the index of the element and its complement. We are using a hash map because the lookup of a hash map function is constant time. The solution has time complexity of O of n making it a better solution.\\n', 'response': \"Thank you for your explanation. Let's dive into the understanding of your solution.\\n\\n**Question 1:**  \\nYou've mentioned that the time complexity of using a hash map for this problem is O(n). Could you explain why this approach is more efficient than the brute force method and how the hash map specifically offers this improvement in terms of operations being performed? \\n\\n(Note: Wait for the candidate's response before proceeding to Question 2.)\", 'summary': \"The candidate explained that by leveraging the properties of a hash map for lookups (which is constant time O(1)), we avoid having to search through the array multiple times (which would have been an O(n) operation for each element, resulting in O(n²) for the whole process in the brute-force method). This explanation demonstrates a understanding of both the problem and the data structures involved (hash map), indicating a sufficient depth in algorithmic knowledge and reasoning. \\n\\n**Question 2:**  \\nYou briefly mentioned the use of 'complement' to find the required element in the hash map. Could you elaborate more on this concept and explain why this approach significantly reduces the number of operations? \\n\\n(Note: The candidate's response will help determine how well they understand the crucial part of their solution and their ability to articulate this knowledge.)\"}\n"
     ]
    }
   ],
   "source": [
    "\n",
    "path = \"test.wav\"\n",
    "\n",
    "req = requests.post(\n",
    "    BASE_API + \"chat\",\n",
    "    files={\"audio\": open(path, \"rb\")},\n",
    "    headers={\"Authorization\": \"dotslash-snac\"},\n",
    ")\n",
    "\n",
    "print(req.json())"
   ]
  },
  {
   "cell_type": "code",
   "execution_count": 16,
   "metadata": {},
   "outputs": [
    {
     "name": "stdout",
     "output_type": "stream",
     "text": [
      "{'success': True, 'session_id': '587e9351-c8e6-4c43-b50f-a9e107c99915', 'transcription': 'So, the problem wants us to give the index of two elements from the list such that the sum of the numbers at that index is equal to the provided target. Easiest way to do this is the brute force method which is run a loop in a loop to check for the sum is equal to the target. However, this solution is a O of n squared solution, but the question asks us to look for a better solution than O of n square. So, the next approach would be to use a hash map or a dictionary. We store the seen elements as the keys with the index as the values. We continue looping through the list till we find the element whose complement aka the target minus number is in the hash map. When we find such an element, we return the index of the element and its complement. We are using a hash map because the lookup of a hash map function is constant time. The solution has time complexity of O of n making it a better solution.\\n', 'response': \"Thank you for your explanation. Let's dive deeper into the problem and your solution approach. \\n\\nFirst question: \\n1) You mentioned using a hash map where elements are stored as keys with indices as values. Can you elaborate on how you intend to handle cases where a number may occur more than once in the list? How does your hash map account for such duplicates in your solution? \\n\\nYour response will help me understand your accuracy in handling various input cases.\"}\n"
     ]
    }
   ],
   "source": [
    "session_id = \"52f8a613-6404-4bd6-a12a-0baaeb40475e\"\n",
    "\n",
    "path = \"test.wav\"\n",
    "\n",
    "req = requests.post(\n",
    "    BASE_API + \"chat\",\n",
    "    data={\"session_id\": session_id},\n",
    "    files={\"audio\": open(path, \"rb\")},\n",
    "    headers={\"Authorization\": \"dotslash-snac\"},\n",
    ")\n",
    "\n",
    "print(req.json())"
   ]
  }
 ],
 "metadata": {
  "kernelspec": {
   "display_name": "Python 3",
   "language": "python",
   "name": "python3"
  },
  "language_info": {
   "codemirror_mode": {
    "name": "ipython",
    "version": 3
   },
   "file_extension": ".py",
   "mimetype": "text/x-python",
   "name": "python",
   "nbconvert_exporter": "python",
   "pygments_lexer": "ipython3",
   "version": "3.12.4"
  }
 },
 "nbformat": 4,
 "nbformat_minor": 2
}
